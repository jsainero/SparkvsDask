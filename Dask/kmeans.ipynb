{
 "cells": [
  {
   "cell_type": "code",
   "execution_count": null,
   "metadata": {},
   "outputs": [],
   "source": [
    "from dask.distributed import Client\n",
    "import time\n",
    "client = Client(n_workers=4)\n",
    "from dask_ml.cluster import KMeans\n",
    "import dask.dataframe as dd\n",
    "dataset = dd.read_csv(\"gsod_200kb.csv\",header=None)"
   ]
  },
  {
   "cell_type": "code",
   "execution_count": null,
   "metadata": {},
   "outputs": [],
   "source": [
    "t0=time.time()\n",
    "dataset=dataset[[0,1,2,3,4,5,6,7,8,9,10,11,12,13,14,15,16,17,18,20,21]]\n",
    "clf = KMeans(n_clusters=5,tol=0.0001)\n",
    "clf.fit(dataset)\n",
    "a=clf.transform(dataset)\n",
    "a.compute()\n",
    "print(clf.cluster_centers_)\n",
    "print(time.time()-t0)"
   ]
  },
  {
   "cell_type": "code",
   "execution_count": null,
   "metadata": {},
   "outputs": [],
   "source": [
    "client.close()"
   ]
  }
 ],
 "metadata": {
  "kernelspec": {
   "display_name": "Python 3",
   "language": "python",
   "name": "python3"
  },
  "language_info": {
   "codemirror_mode": {
    "name": "ipython",
    "version": 3
   },
   "file_extension": ".py",
   "mimetype": "text/x-python",
   "name": "python",
   "nbconvert_exporter": "python",
   "pygments_lexer": "ipython3",
   "version": "3.7.3"
  }
 },
 "nbformat": 4,
 "nbformat_minor": 2
}
