{
 "cells": [
  {
   "cell_type": "code",
   "execution_count": 1,
   "metadata": {},
   "outputs": [],
   "source": [
    "from dask.distributed import Client\n",
    "import dask.bag as db\n",
    "import string\n",
    "client = Client(n_workers=4)"
   ]
  },
  {
   "cell_type": "code",
   "execution_count": 2,
   "metadata": {},
   "outputs": [],
   "source": [
    "def replace(word):\n",
    "    for a in string.punctuation+'¿¡«»':\n",
    "        word = word.replace(a,'')\n",
    "    return word"
   ]
  },
  {
   "cell_type": "code",
   "execution_count": 8,
   "metadata": {
    "scrolled": true
   },
   "outputs": [
    {
     "name": "stdout",
     "output_type": "stream",
     "text": [
      "RESULTS------------------\n",
      "RESULTS------------------\n",
      "words frequency sorted [('y', 23130000), ('que', 20930000), ('de', 19790000), ('la', 11590000), ('a', 11430000), ('en', 10250000), ('el', 8910000), ('no', 7350000), ('con', 6260000), ('los', 5750000)]\n",
      "Wall time: 8min 17s\n"
     ]
    }
   ],
   "source": [
    "%%time\n",
    "data = db.read_text('quevedo_10000.txt',encoding='latin-1')\n",
    "datanp = data.map(replace)\n",
    "words_bag = datanp.map(lambda x: x.split()).flatten()\n",
    "#si no se hace compute() no saca nada\n",
    "#print(words_bag.compute()[:10])\n",
    "appearances_bag = words_bag.map(lambda x: (x.lower(),1))\n",
    "#print (appearances_bag.compute()[:10])\n",
    "result_bag = words_bag.map(lambda x: x.lower()).frequencies()\n",
    "print ('RESULTS------------------')\n",
    "#print ('words frequency', result_bag.compute()[:10])\n",
    "sorted_bag = words_bag.map(lambda x: x.lower()).frequencies(sort=True)\n",
    "print ('RESULTS------------------')\n",
    "print ('words frequency sorted', sorted_bag.compute()[:10])"
   ]
  },
  {
   "cell_type": "code",
   "execution_count": null,
   "metadata": {},
   "outputs": [],
   "source": []
  }
 ],
 "metadata": {
  "kernelspec": {
   "display_name": "Python 3",
   "language": "python",
   "name": "python3"
  },
  "language_info": {
   "codemirror_mode": {
    "name": "ipython",
    "version": 3
   },
   "file_extension": ".py",
   "mimetype": "text/x-python",
   "name": "python",
   "nbconvert_exporter": "python",
   "pygments_lexer": "ipython3",
   "version": "3.7.3"
  }
 },
 "nbformat": 4,
 "nbformat_minor": 2
}
