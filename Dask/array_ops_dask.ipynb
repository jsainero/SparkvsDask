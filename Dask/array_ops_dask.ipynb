{
 "cells": [
  {
   "cell_type": "code",
   "execution_count": 1,
   "metadata": {},
   "outputs": [
    {
     "data": {
      "text/plain": [
       "'\\ndata = da.from_array(np.random.uniform(\\n        low=0.0, high=100.0, size=(1000000,1000)))\\n'"
      ]
     },
     "execution_count": 1,
     "metadata": {},
     "output_type": "execute_result"
    }
   ],
   "source": [
    "import dask.array as da\n",
    "import numpy as np\n",
    "from dask.distributed import Client\n",
    "client=Client(n_workers=4)"
   ]
  },
  {
   "cell_type": "code",
   "execution_count": 7,
   "metadata": {},
   "outputs": [],
   "source": [
    "data = da.from_array(np.loadtxt('vector10k.txt',delimiter='\\n'))"
   ]
  },
  {
   "cell_type": "code",
   "execution_count": 8,
   "metadata": {
    "scrolled": true
   },
   "outputs": [
    {
     "name": "stdout",
     "output_type": "stream",
     "text": [
      "RESULTS ---------------------\n",
      "Sum: 496826.3447313454\n",
      "Mean: 49.68263447313454\n",
      "Sort: [0.01416227 0.01522683 0.04808161 0.04896665 0.05894427 0.07337268\n",
      " 0.07884594 0.08616662 0.09133271 0.09439098]\n",
      "Wall time: 68.5 ms\n"
     ]
    }
   ],
   "source": [
    "%%time\n",
    "print('RESULTS ---------------------')\n",
    "print('Sum:', data.sum().compute())\n",
    "print('Mean:', data.mean().compute())\n",
    "print('Sort:', da.map_blocks(np.sort,data).compute()[:3])"
   ]
  },
  {
   "cell_type": "code",
   "execution_count": null,
   "metadata": {},
   "outputs": [],
   "source": []
  }
 ],
 "metadata": {
  "kernelspec": {
   "display_name": "Python 3",
   "language": "python",
   "name": "python3"
  },
  "language_info": {
   "codemirror_mode": {
    "name": "ipython",
    "version": 3
   },
   "file_extension": ".py",
   "mimetype": "text/x-python",
   "name": "python",
   "nbconvert_exporter": "python",
   "pygments_lexer": "ipython3",
   "version": "3.7.3"
  }
 },
 "nbformat": 4,
 "nbformat_minor": 2
}
